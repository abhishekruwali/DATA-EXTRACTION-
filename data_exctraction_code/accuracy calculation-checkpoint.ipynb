{
 "cells": [
  {
   "cell_type": "code",
   "execution_count": 1,
   "id": "68d6ba1a",
   "metadata": {},
   "outputs": [],
   "source": [
    "import numpy as np\n",
    "from sklearn.feature_extraction.text import TfidfVectorizer\n",
    "from sklearn.cluster import KMeans\n",
    "from sklearn.metrics import pairwise_distances\n",
    "import matplotlib.pyplot as plt\n",
    "from sklearn.metrics.pairwise import cosine_similarity\n",
    "from nltk.tokenize import sent_tokenize, word_tokenize"
   ]
  },
  {
   "cell_type": "code",
   "execution_count": 2,
   "id": "25568278",
   "metadata": {},
   "outputs": [],
   "source": [
    "### using cosine similarity "
   ]
  },
  {
   "cell_type": "code",
   "execution_count": 3,
   "id": "4bae1a9f",
   "metadata": {},
   "outputs": [],
   "source": [
    "def calculate_similarity(file1_path, file2_path):\n",
    "    # Read the contents of both files\n",
    "    with open(file1_path, 'r', encoding='utf-8') as f:\n",
    "        text1 = f.read()\n",
    "\n",
    "    with open(file2_path, 'r', encoding='utf-8') as f:\n",
    "        text2 = f.read()\n",
    "\n",
    "    # Tokenize the strings into sentences\n",
    "    words1 = sent_tokenize(text1.lower())\n",
    "    words2 = sent_tokenize(text2.lower())\n",
    "\n",
    "    # Create a set of all the unique words in both texts\n",
    "    word_set = set(words1 + words2)\n",
    "\n",
    "    # Create dictionaries to represent the frequency of each word\n",
    "    dict1 = {word: 0 for word in word_set}\n",
    "    dict2 = {word: 0 for word in word_set}\n",
    "\n",
    "    for sent in words1:\n",
    "        dict1[sent] += 1\n",
    "\n",
    "    for sent in words2:\n",
    "        dict2[sent] += 1\n",
    "\n",
    "    # Convert each dictionary to a bag-of-words representation\n",
    "    bag1 = [dict1[word] for word in word_set]\n",
    "    bag2 = [dict2[word] for word in word_set]\n",
    "\n",
    "    # Calculate cosine similarity between the two bag-of-words representations\n",
    "    X = np.array([bag1, bag2], dtype=object)\n",
    "    cos_sim = cosine_similarity(X)\n",
    "\n",
    "    # Return the cosine similarity as a percentage\n",
    "    return cos_sim[0][1] * 100"
   ]
  },
  {
   "cell_type": "code",
   "execution_count": 4,
   "id": "f57c0669",
   "metadata": {},
   "outputs": [
    {
     "ename": "FileNotFoundError",
     "evalue": "[Errno 2] No such file or directory: 'keyword_output1.txt'",
     "output_type": "error",
     "traceback": [
      "\u001b[1;31m---------------------------------------------------------------------------\u001b[0m",
      "\u001b[1;31mFileNotFoundError\u001b[0m                         Traceback (most recent call last)",
      "Cell \u001b[1;32mIn[4], line 2\u001b[0m\n\u001b[0;32m      1\u001b[0m \u001b[39m#keyword based\u001b[39;00m\n\u001b[1;32m----> 2\u001b[0m similarity_percentage \u001b[39m=\u001b[39m calculate_similarity(\u001b[39m\"\u001b[39;49m\u001b[39mpure_test_unstructured.txt\u001b[39;49m\u001b[39m\"\u001b[39;49m, \u001b[39m\"\u001b[39;49m\u001b[39mkeyword_output1.txt\u001b[39;49m\u001b[39m\"\u001b[39;49m)\n\u001b[0;32m      3\u001b[0m \u001b[39mprint\u001b[39m(\u001b[39mf\u001b[39m\u001b[39m\"\u001b[39m\u001b[39mThe similarity between the two files is \u001b[39m\u001b[39m{\u001b[39;00msimilarity_percentage\u001b[39m:\u001b[39;00m\u001b[39m.2f\u001b[39m\u001b[39m}\u001b[39;00m\u001b[39m%\u001b[39m\u001b[39m\"\u001b[39m)\n",
      "Cell \u001b[1;32mIn[3], line 6\u001b[0m, in \u001b[0;36mcalculate_similarity\u001b[1;34m(file1_path, file2_path)\u001b[0m\n\u001b[0;32m      3\u001b[0m \u001b[39mwith\u001b[39;00m \u001b[39mopen\u001b[39m(file1_path, \u001b[39m'\u001b[39m\u001b[39mr\u001b[39m\u001b[39m'\u001b[39m, encoding\u001b[39m=\u001b[39m\u001b[39m'\u001b[39m\u001b[39mutf-8\u001b[39m\u001b[39m'\u001b[39m) \u001b[39mas\u001b[39;00m f:\n\u001b[0;32m      4\u001b[0m     text1 \u001b[39m=\u001b[39m f\u001b[39m.\u001b[39mread()\n\u001b[1;32m----> 6\u001b[0m \u001b[39mwith\u001b[39;00m \u001b[39mopen\u001b[39;49m(file2_path, \u001b[39m'\u001b[39;49m\u001b[39mr\u001b[39;49m\u001b[39m'\u001b[39;49m, encoding\u001b[39m=\u001b[39;49m\u001b[39m'\u001b[39;49m\u001b[39mutf-8\u001b[39;49m\u001b[39m'\u001b[39;49m) \u001b[39mas\u001b[39;00m f:\n\u001b[0;32m      7\u001b[0m     text2 \u001b[39m=\u001b[39m f\u001b[39m.\u001b[39mread()\n\u001b[0;32m      9\u001b[0m \u001b[39m# Tokenize the strings into sentences\u001b[39;00m\n",
      "File \u001b[1;32mc:\\Users\\ruwal\\anaconda1\\lib\\site-packages\\IPython\\core\\interactiveshell.py:282\u001b[0m, in \u001b[0;36m_modified_open\u001b[1;34m(file, *args, **kwargs)\u001b[0m\n\u001b[0;32m    275\u001b[0m \u001b[39mif\u001b[39;00m file \u001b[39min\u001b[39;00m {\u001b[39m0\u001b[39m, \u001b[39m1\u001b[39m, \u001b[39m2\u001b[39m}:\n\u001b[0;32m    276\u001b[0m     \u001b[39mraise\u001b[39;00m \u001b[39mValueError\u001b[39;00m(\n\u001b[0;32m    277\u001b[0m         \u001b[39mf\u001b[39m\u001b[39m\"\u001b[39m\u001b[39mIPython won\u001b[39m\u001b[39m'\u001b[39m\u001b[39mt let you open fd=\u001b[39m\u001b[39m{\u001b[39;00mfile\u001b[39m}\u001b[39;00m\u001b[39m by default \u001b[39m\u001b[39m\"\u001b[39m\n\u001b[0;32m    278\u001b[0m         \u001b[39m\"\u001b[39m\u001b[39mas it is likely to crash IPython. If you know what you are doing, \u001b[39m\u001b[39m\"\u001b[39m\n\u001b[0;32m    279\u001b[0m         \u001b[39m\"\u001b[39m\u001b[39myou can use builtins\u001b[39m\u001b[39m'\u001b[39m\u001b[39m open.\u001b[39m\u001b[39m\"\u001b[39m\n\u001b[0;32m    280\u001b[0m     )\n\u001b[1;32m--> 282\u001b[0m \u001b[39mreturn\u001b[39;00m io_open(file, \u001b[39m*\u001b[39margs, \u001b[39m*\u001b[39m\u001b[39m*\u001b[39mkwargs)\n",
      "\u001b[1;31mFileNotFoundError\u001b[0m: [Errno 2] No such file or directory: 'keyword_output1.txt'"
     ]
    }
   ],
   "source": [
    "#keyword based\n",
    "similarity_percentage = calculate_similarity(\"pure_test_unstructured.txt\", \"keyword_output1.txt\")\n",
    "print(f\"The similarity between the two files is {similarity_percentage:.2f}%\")"
   ]
  },
  {
   "cell_type": "code",
   "execution_count": null,
   "id": "809c0a77",
   "metadata": {},
   "outputs": [],
   "source": [
    "#regular expression based\n",
    "similarity_percentage = calculate_similarity(\"pure_test_unstructured.txt\", \"rule_output1.txt\")\n",
    "print(f\"The similarity between the two files is {similarity_percentage:.2f}%\")"
   ]
  },
  {
   "cell_type": "code",
   "execution_count": null,
   "id": "9ef936ab",
   "metadata": {},
   "outputs": [],
   "source": [
    "#deep learing based\n",
    "similarity_percentage = calculate_similarity(\"pure_test_unstructured.txt\", \"dl_output1.txt\")\n",
    "print(f\"The similarity between the two files is {similarity_percentage:.2f}%\")"
   ]
  },
  {
   "cell_type": "code",
   "execution_count": null,
   "id": "17e34e09",
   "metadata": {},
   "outputs": [],
   "source": [
    "### jaccard similarity"
   ]
  },
  {
   "cell_type": "code",
   "execution_count": null,
   "id": "7f9c1d65",
   "metadata": {},
   "outputs": [],
   "source": [
    "def calculate_similarity(file1_path, file2_path):\n",
    "    # Read the contents of both files\n",
    "    with open(file1_path, 'r', encoding='utf-8') as file1:\n",
    "        file1_data = file1.readlines()\n",
    "\n",
    "    with open(file2_path, 'r', encoding='utf-8') as file2:\n",
    "        file2_data = file2.readlines()\n",
    "\n",
    "    # Combine the contents of both files\n",
    "    combined_data = file1_data + file2_data\n",
    "\n",
    "    # Create a TF-IDF vectorizer and fit it on the combined data\n",
    "    vectorizer = TfidfVectorizer()\n",
    "    tfidf_matrix = vectorizer.fit_transform(combined_data)\n",
    "\n",
    "    # Perform K-means clustering on the TF-IDF matrix\n",
    "    num_clusters = 2  # Adjust the number of clusters as needed\n",
    "    kmeans = KMeans(n_clusters=num_clusters, random_state=42)\n",
    "    kmeans.fit(tfidf_matrix)\n",
    "\n",
    "    # Get the cluster labels for each sentence\n",
    "    labels = kmeans.labels_\n",
    "\n",
    "    # Map each sentence index to its respective cluster label\n",
    "    sentence_clusters = {}\n",
    "    for i, label in enumerate(labels):\n",
    "        if i < len(file1_data):\n",
    "            sentence_clusters[file1_data[i]] = label\n",
    "        else:\n",
    "            sentence_clusters[file2_data[i - len(file1_data)]] = label\n",
    "\n",
    "    # Calculate Jaccard similarity between the sets of sentences in each cluster\n",
    "    jaccard_similarities = []\n",
    "    for cluster_label in set(labels):\n",
    "        cluster_sentences_file1 = [sentence for sentence, label in sentence_clusters.items() if label == cluster_label and sentence in file1_data]\n",
    "        cluster_sentences_file2 = [sentence for sentence, label in sentence_clusters.items() if label == cluster_label and sentence in file2_data]\n",
    "\n",
    "        intersection = len(set(cluster_sentences_file1) & set(cluster_sentences_file2))\n",
    "        union = len(set(cluster_sentences_file1) | set(cluster_sentences_file2))\n",
    "\n",
    "        jaccard_similarity = intersection / union\n",
    "        jaccard_similarities.append(jaccard_similarity)\n",
    "\n",
    "    # Calculate the average Jaccard similarity across all clusters\n",
    "    similarity = np.mean(jaccard_similarities) * 100\n",
    "    \n",
    "    return similarity"
   ]
  },
  {
   "cell_type": "code",
   "execution_count": null,
   "id": "b730eaf2",
   "metadata": {},
   "outputs": [],
   "source": [
    "#keyword based\n",
    "similarity = calculate_similarity(\"pure_test_unstructured.txt\", \"keyword_output1.txt\")\n",
    "print(f\"The similarity between the files is {similarity:.2f}%\")"
   ]
  },
  {
   "cell_type": "code",
   "execution_count": null,
   "id": "a0f56972",
   "metadata": {},
   "outputs": [],
   "source": [
    "#regular expression based\n",
    "similarity = calculate_similarity(\"pure_test_unstructured.txt\", \"rule_output1.txt\")\n",
    "print(f\"The similarity between the files is {similarity:.2f}%\")"
   ]
  },
  {
   "cell_type": "code",
   "execution_count": null,
   "id": "d05fd684",
   "metadata": {},
   "outputs": [],
   "source": [
    "#deep learing based\n",
    "similarity = calculate_similarity(\"pure_test_unstructured.txt\", \"dl_output1.txt\")\n",
    "print(f\"The similarity between the files is {similarity:.2f}%\")"
   ]
  }
 ],
 "metadata": {
  "kernelspec": {
   "display_name": "Python 3 (ipykernel)",
   "language": "python",
   "name": "python3"
  },
  "language_info": {
   "codemirror_mode": {
    "name": "ipython",
    "version": 3
   },
   "file_extension": ".py",
   "mimetype": "text/x-python",
   "name": "python",
   "nbconvert_exporter": "python",
   "pygments_lexer": "ipython3",
   "version": "3.10.9"
  }
 },
 "nbformat": 4,
 "nbformat_minor": 5
}
